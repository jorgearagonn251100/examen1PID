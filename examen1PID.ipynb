{
 "cells": [
  {
   "cell_type": "markdown",
   "id": "334f464c-32c8-4e9b-8f22-ee3685c75e11",
   "metadata": {},
   "source": [
    "# Evaluación 1 PID \n",
    "## Jorge Aragón Hernández 00423319"
   ]
  },
  {
   "cell_type": "markdown",
   "id": "b88b9f0c-8e43-4155-87dd-4c8df4c54b5d",
   "metadata": {},
   "source": [
    "### Dataset Apache.log\n",
    "\n",
    "Este archivo registra los eventos que ocurren durante el arranque y la operación inicial del sistema.\n",
    "\n",
    "Este log captura el proceso de arranque del sistema, desde la inicialización del kernel hasta la activación de servicios clave, configuraciones de hardware y control de seguridad. La información detallada sobre la CPU, memoria, disco y el sistema de archivos refleja un sistema Linux basado en un núcleo 2.6 con soporte para módulos de seguridad y hardware variado.\n",
    "\n",
    "## Dataset Linux.log\n",
    "\n",
    "Este archivo de log registra los eventos que ocurren durante el arranque y la operación inicial del sistema. Estos eventos provienen de diversos componentes del sistema, como el núcleo (kernel), servicios del sistema y hardware.\n",
    "ejemplo: Feb 27 06:47:22 combo unix_chkpwd[6680]: check pass; user unknown\n",
    "  "
   ]
  },
  {
   "cell_type": "markdown",
   "id": "42967818-adad-4ef7-8beb-063c53a51858",
   "metadata": {},
   "source": [
    " ### El comando `cut -d' ' -f 1-5` extrae los campos del 1 al 5 delimitados por espacios en blanco de cada línea"
   ]
  },
  {
   "cell_type": "markdown",
   "id": "07afd764-acd7-4fe5-b476-5c68991456f9",
   "metadata": {},
   "source": [
    "# Linux.log\n",
    "### Número de líneas"
   ]
  },
  {
   "cell_type": "code",
   "execution_count": 2,
   "id": "c45630b9-2bf2-4302-8d6d-8f7dadf33f55",
   "metadata": {},
   "outputs": [
    {
     "name": "stdout",
     "output_type": "stream",
     "text": [
      "   25567 Linux.log\n"
     ]
    }
   ],
   "source": [
    "!wc -l Linux.log"
   ]
  },
  {
   "cell_type": "markdown",
   "id": "12f78aa5-ab58-4b77-aaf0-cf3eb05b0381",
   "metadata": {},
   "source": [
    "### Número de palabras"
   ]
  },
  {
   "cell_type": "code",
   "execution_count": 3,
   "id": "a8b479c8-f17a-4c7e-a11a-feab1d0b4911",
   "metadata": {},
   "outputs": [
    {
     "name": "stdout",
     "output_type": "stream",
     "text": [
      "  308039 Linux.log\n"
     ]
    }
   ],
   "source": [
    "!wc -w Linux.log"
   ]
  },
  {
   "cell_type": "markdown",
   "id": "55d9c9ed-378e-4fff-a13d-35a6d59202cd",
   "metadata": {},
   "source": [
    "### Número de caracteres"
   ]
  },
  {
   "cell_type": "code",
   "execution_count": 4,
   "id": "d645ff3d-eb91-47a9-bba3-1275fee06fac",
   "metadata": {},
   "outputs": [
    {
     "name": "stdout",
     "output_type": "stream",
     "text": [
      " 2349446 Linux.log\n"
     ]
    }
   ],
   "source": [
    "!wc -m Linux.log"
   ]
  },
  {
   "cell_type": "markdown",
   "id": "a8d66a74-82c3-43e0-8857-d8a470aa071d",
   "metadata": {},
   "source": [
    "### Número de eventos por mes"
   ]
  },
  {
   "cell_type": "code",
   "execution_count": 6,
   "id": "f4cd86fb-6547-4294-825b-727a6e54660a",
   "metadata": {},
   "outputs": [
    {
     "name": "stdout",
     "output_type": "stream",
     "text": [
      "2439 Jan\n",
      "1222 Feb\n",
      "1605 Jun\n",
      "1659 Jul\n",
      "1208 Aug\n",
      "1829 Sep\n",
      "1540 Oct\n",
      "9315 Nov\n",
      "4750 Dec\n"
     ]
    }
   ],
   "source": [
    "!awk '{print $1}' Linux.log | sort | uniq -c | sort -k2M"
   ]
  },
  {
   "cell_type": "markdown",
   "id": "69a1891d-68d8-41f2-af82-41271047a16b",
   "metadata": {},
   "source": [
    "### De los eventos con el string \"authentication failure\" obtener el listado de usuarios, y cuantos eventos tienen"
   ]
  },
  {
   "cell_type": "code",
   "execution_count": 7,
   "id": "20745f41-19e3-4f46-96ec-33ada40b99c2",
   "metadata": {},
   "outputs": [
    {
     "name": "stdout",
     "output_type": "stream",
     "text": [
      "   6 rhost=\n",
      "  10 rhost=061092085098.ctinets.com\n",
      "   5 rhost=129.217.168.31\n",
      "  23 rhost=142.179.221.122\n",
      "  10 rhost=146.164.89.10\n",
      "  10 rhost=147.163.65.158\n",
      "  80 rhost=150.183.249.110\n",
      "  21 rhost=153.19.130.15\n",
      "   8 rhost=164.100.149.66\n",
      "  10 rhost=165.132.224.7\n",
      "   5 rhost=175.red-80-34-110.staticip.rima-tde.net\n",
      "  10 rhost=18-201.adsl.lpoy.dnainternet.fi\n",
      "   2 rhost=193.110.106.11\n",
      "   2 rhost=194.149.144.43\n",
      "   1 rhost=194.78.219.195\n",
      "  15 rhost=195.129.24.210\n",
      "  10 rhost=195.43.187.219\n",
      "   4 rhost=196.1.179.102\n",
      "  10 rhost=200-103-106-42.pvoce700-nrp1.e.brasiltelecom.net.br\n",
      "   7 rhost=200-205-187-74.webtal.com.br\n",
      "  11 rhost=200.150.146.123\n",
      "   3 rhost=200.30.175.22\n",
      "   1 rhost=200.60.37.201\n",
      "  16 rhost=202-132-40-29.adsl.ttn.net\n",
      "  10 rhost=202-145-62-59.adsl.ttn.net\n",
      "   7 rhost=202-63-163-84.static.exatt.net\n",
      "  14 rhost=202.101.42.106\n",
      "  10 rhost=202.108.13.91\n",
      "  10 rhost=202.127.25.130\n",
      "   1 rhost=202.143.128.51\n",
      "  10 rhost=202.164.165.108\n",
      "  10 rhost=202.181.236.180\n",
      "  10 rhost=202.39.240.228\n",
      "   3 rhost=202.63.163.84\n",
      "   2 rhost=202.85.177.225\n",
      "   3 rhost=202.96.242.5\n",
      "  20 rhost=203.100.127.12\n",
      "   6 rhost=203.223.40.241\n",
      "   5 rhost=203.251.225.101\n",
      "  10 rhost=203.251.225.152\n",
      "  10 rhost=203.71.234.22\n",
      "  21 rhost=203.95.1.26\n",
      "  35 rhost=203.95.107.5\n",
      "  10 rhost=203186089173.ctinets.com\n",
      "   9 rhost=204.11.152.180\n",
      "   6 rhost=206-248-137-78.dsl.teksavvy.com\n",
      "  20 rhost=206.51.234.204\n",
      "  23 rhost=207.243.167.114\n",
      "   1 rhost=208-151-246-182.dq1sn.easystreet.com\n",
      "  10 rhost=209.152.168.249\n",
      "  20 rhost=209.208.122.221\n",
      "  10 rhost=210.0.200.7\n",
      "  70 rhost=210.109.97.31\n",
      "   8 rhost=210.118.169.249\n",
      "  10 rhost=210.118.170.60\n",
      "  10 rhost=210.118.94.55\n",
      "  10 rhost=210.127.68.18\n",
      "  10 rhost=210.14.28.60\n",
      "  14 rhost=210.178.126.40\n",
      "  16 rhost=210.204.224.125\n",
      "  15 rhost=210.219.231.2\n",
      "   1 rhost=210.228.173.152\n",
      "   5 rhost=210.229.150.228\n",
      "   2 rhost=210.51.189.186\n",
      "  10 rhost=210.75.224.23\n",
      "   7 rhost=210.76.59.29\n",
      "   8 rhost=210.99.254.124\n",
      "  17 rhost=211-232-147-37.nexg.net\n",
      "  10 rhost=211-76-104-65.ebix.net.tw\n",
      "  13 rhost=211.100.28.173\n",
      "   1 rhost=211.108.60.203\n",
      "   5 rhost=211.114.109.131\n",
      "  10 rhost=211.114.82.252\n",
      "   5 rhost=211.115.206.155\n",
      "  11 rhost=211.136.20.50\n",
      "  10 rhost=211.137.205.253\n",
      "  23 rhost=211.137.206.147\n",
      "   2 rhost=211.138.138.26\n",
      "  20 rhost=211.154.205.252\n",
      "   5 rhost=211.155.28.28\n",
      "  10 rhost=211.155.31.54\n",
      "  10 rhost=211.157.108.173\n",
      "  10 rhost=211.185.162.130\n",
      "  11 rhost=211.191.53.101\n",
      "  10 rhost=211.198.225.248\n",
      "  10 rhost=211.20.75.139\n",
      "  10 rhost=211.200.44.248\n",
      "  10 rhost=211.214.161.141\n",
      "  10 rhost=211.220.149.227\n",
      "  10 rhost=211.233.12.249\n",
      "  10 rhost=211.233.9.185\n",
      "   1 rhost=211.242.213.22\n",
      "   1 rhost=211.46.224.253\n",
      "   1 rhost=211.46.241.200\n",
      "   1 rhost=211.75.28.12\n",
      "  10 rhost=211.86.92.242\n",
      "  10 rhost=211.9.58.217\n",
      "   2 rhost=211.90.241.7\n",
      "  10 rhost=211.96.97.37\n",
      "  52 rhost=211.98.81.12\n",
      "  22 rhost=211.99.33.2\n",
      "  59 rhost=212-41-230-229.hebragasse.xdsl-line.inode.at\n",
      "   4 rhost=212.0.132.20\n",
      "  10 rhost=213.197.195.245\n",
      "  10 rhost=216.120.255.208\n",
      "   1 rhost=216.138.177.216\n",
      "  10 rhost=217-159-208-230-dsl.est.estpak.ee\n",
      "   1 rhost=217.146.215.123\n",
      "   6 rhost=217.60.212.66\n",
      "  10 rhost=218.108.234.71\n",
      "  10 rhost=218.14.157.80\n",
      "  16 rhost=218.145.53.114\n",
      "  10 rhost=218.153.147.92\n",
      "   5 rhost=218.16.122.48\n",
      "   7 rhost=218.16.123.169\n",
      "  49 rhost=218.188.2.4\n",
      "  10 rhost=218.189.216.84\n",
      "   7 rhost=218.206.193.55\n",
      "   9 rhost=218.22.3.51\n",
      "  10 rhost=218.32.209.188\n",
      "  13 rhost=218.38.14.205\n",
      "   5 rhost=218.55.234.102\n",
      "  10 rhost=218.69.8.78\n",
      "  10 rhost=218.75.120.146\n",
      "  20 rhost=218.78.209.108\n",
      "   9 rhost=218.78.215.9\n",
      "  10 rhost=218.80.222.134\n",
      "  10 rhost=218.90.137.90\n",
      "  19 rhost=219.135.191.21\n",
      "  85 rhost=219.150.28.34\n",
      "  10 rhost=219.232.48.98\n",
      "  83 rhost=219.72.254.36\n",
      "  10 rhost=220-135-151-1.hinet-ip.hinet.net\n",
      "  13 rhost=220.113.24.228\n",
      "  26 rhost=220.117.241.3\n",
      "  13 rhost=220.117.241.87\n",
      "  14 rhost=220.125.251.17\n",
      "  10 rhost=220.179.61.130\n",
      "  10 rhost=220.194.58.127\n",
      "   7 rhost=220.73.233.195\n",
      "  10 rhost=220.75.233.249\n",
      "  80 rhost=220.82.197.48\n",
      "  10 rhost=220.95.232.206\n",
      "   5 rhost=221.12.60.23\n",
      "  16 rhost=221.230.128.214\n",
      "  17 rhost=222.106.127.226\n",
      "   5 rhost=222.117.59.34\n",
      "  10 rhost=222.122.28.162\n",
      "  12 rhost=222.126.92.146\n",
      "  10 rhost=222.168.14.22\n",
      "   9 rhost=222.171.26.201\n",
      "   4 rhost=222.222.60.88\n",
      "   1 rhost=222.76.149.199\n",
      "   6 rhost=24.75.10.188\n",
      "  10 rhost=59-106-15-121.r-bl100.sakura.ne.jp\n",
      "   1 rhost=59.124.26.22\n",
      "   1 rhost=60-248-97-31.hinet-ip.hinet.net\n",
      "   2 rhost=60.190.64.139\n",
      "  20 rhost=60.30.224.116\n",
      "  10 rhost=61-218-185-123.hinet-ip.hinet.net\n",
      "  10 rhost=61-218-41-150.hinet-ip.hinet.net\n",
      "   6 rhost=61-218-77-13.hinet-ip.hinet.net\n",
      "  10 rhost=61-219-105-155.hinet-ip.hinet.net\n",
      "   3 rhost=61-220-159-99.hinet-ip.hinet.net\n",
      "  10 rhost=61-222-8-50.hinet-ip.hinet.net\n",
      "   1 rhost=61-31-236-3.static.tfn.net.tw\n",
      "   9 rhost=61.107.1.198\n",
      "  10 rhost=61.129.113.52\n",
      "  15 rhost=61.129.57.24\n",
      "  10 rhost=61.132.75.90\n",
      "   7 rhost=61.133.4.220\n",
      "  10 rhost=61.153.202.254\n",
      "  12 rhost=61.157.209.133\n",
      "  49 rhost=61.162.81.22\n",
      "  11 rhost=61.166.155.143\n",
      "  20 rhost=61.178.20.170\n",
      "   9 rhost=61.183.248.130\n",
      "  16 rhost=61.185.220.46\n",
      "   9 rhost=61.189.192.156\n",
      "  12 rhost=61.233.104.78\n",
      "  10 rhost=61.233.3.13\n",
      "  10 rhost=61.35.204.36\n",
      "   9 rhost=61.53.154.93\n",
      "  10 rhost=61.74.86.1\n",
      "   6 rhost=61.79.44.164\n",
      "  22 rhost=61.82.188.147\n",
      "  10 rhost=62-192-102-94.dsl.easynet.nl\n",
      "  10 rhost=62.154.184.86\n",
      "  32 rhost=62.205.38.26\n",
      "  10 rhost=63-78-203-210.ip.intralot.us\n",
      "  21 rhost=63.107.208.121\n",
      "  10 rhost=63.116.211.67\n",
      "   1 rhost=63.126.79.65\n",
      "   3 rhost=64.178.48.29\n",
      "  10 rhost=64.77.164.126\n",
      "  10 rhost=65.166.159.14\n",
      "  81 rhost=65.168.94.4\n",
      "  10 rhost=65.82.89.30\n",
      "   1 rhost=66-169-125-252.dhcp.ftwo.tx.charter.com\n",
      "   5 rhost=66-195-16-3.dimenoc.com\n",
      "  19 rhost=66-50-123-66.prtc.net\n",
      "  17 rhost=66.199.253.10\n",
      "   1 rhost=66.50.123.66\n",
      "  11 rhost=68-119-96-37.static.jcsn.tn.charter.com\n",
      "  10 rhost=68.143.156.89.nw.nuvox.net\n",
      "  10 rhost=68.red-217-126-158.staticip.rima-tde.net\n",
      "  22 rhost=69.42.162.212\n",
      "  14 rhost=80.191.68.130\n",
      "   1 rhost=80.34.110.175\n",
      "   1 rhost=80.96.171.173\n",
      "   2 rhost=80.96.171.181\n",
      "   2 rhost=80.96.171.182\n",
      "   9 rhost=81-233-245-217-no37.tbcn.telia.com\n",
      "   2 rhost=81.137.10.194\n",
      "   2 rhost=81.196.56.67\n",
      "   1 rhost=81.196.56.77\n",
      "   1 rhost=81.196.56.79\n",
      "   1 rhost=81.196.56.83\n",
      "  10 rhost=82.179.185.68\n",
      "  10 rhost=82.77.200.128\n",
      "  10 rhost=83-103-43-98.ip.fastwebnet.it\n",
      "  20 rhost=83.228.113.166\n",
      "   2 rhost=84.233.148.165\n",
      "  10 rhost=85-95-176-2.saransk.ru\n",
      "  64 rhost=85.17.1.3\n",
      "   1 rhost=85.44.47.166\n",
      "   3 rhost=88-213-181-81-cable.canals.ro\n",
      "   1 rhost=adsl-126.47.82.info.com.ph\n",
      "   4 rhost=adsl-220-228-117-138.nh.sparqnet.net\n",
      "  10 rhost=adsl-64-171-127-90.dsl.sndg02.pacbell.net\n",
      "  10 rhost=adsl-67-124-23-108.dsl.lsan03.pacbell.net\n",
      "   8 rhost=adsl-68-120-97-218.dsl.sntc01.sbcglobal.net\n",
      "   2 rhost=adsl-69-110-112-188.dsl.pltn13.pacbell.net\n",
      "  10 rhost=adsl-69-230-112-80.dsl.scrm01.pacbell.net\n",
      "  10 rhost=adsl-70-242-75-179.dsl.ksc2mo.swbell.net\n",
      "  10 rhost=adsl-dynamic-pool-xxx.fpt.vn\n",
      "   8 rhost=alf-146.210.71.217.zonepro-serveurs.net\n",
      "   2 rhost=alternativadigital.inext.net.mx\n",
      "  10 rhost=ap00.atfdc2-unet.ocn.ne.jp\n",
      "  10 rhost=arx58.internetdsl.tpnet.pl\n",
      "   2 rhost=ast198.internetdsl.tpnet.pl\n",
      "   8 rhost=biblioteka.wsi.edu.pl\n",
      "   7 rhost=bozesan.teleson.ro\n",
      "  18 rhost=c-24-7-117-28.hsd1.ca.comcast.net\n",
      "   1 rhost=c-66-176-150-53.hsd1.fl.comcast.net\n",
      "  10 rhost=c-67-176-148-16.hsd1.il.comcast.net\n",
      "   4 rhost=c-67-184-108-28.hsd1.il.comcast.net\n",
      "   6 rhost=c-69-248-142-135.hsd1.nj.comcast.net\n",
      "  10 rhost=c51471f2c.cable.wanadoo.nl\n",
      "   4 rhost=c9063558.virtua.com.br\n",
      "  10 rhost=cfp.acm.org\n",
      "  10 rhost=co-f-211-78-4-214.kgex.com.tw\n",
      "   5 rhost=coldea.teleson.ro\n",
      "  10 rhost=connect.borran.com\n",
      "  10 rhost=csnsu.nsuok.edu\n",
      "  23 rhost=customer-201-134-69-250.uninet-ide.com.mx\n",
      "  10 rhost=customer-reverse-entry.69.59.170.12\n",
      "   5 rhost=d211-116-254-214.rev.krline.net\n",
      "   1 rhost=data.nhwsh.tp.edu.tw\n",
      "  10 rhost=debsnet1.americannetlink.propagation.net\n",
      "  10 rhost=dialup-mum-203.94.231.54.mtnl.net.in\n",
      "   5 rhost=dms.geos.ntnu.edu.tw\n",
      "   1 rhost=donau064.server4you.de\n",
      "  10 rhost=dpc6682015008.direcpc.com\n",
      "  10 rhost=dsl-kk-151.195.95.61.touchtelindia.net\n",
      "  10 rhost=dsl092-052-016.phl1.dsl.speakeasy.net\n",
      "  10 rhost=ev1s-216-127-80-2.ev1servers.net\n",
      "  10 rhost=fastfood.com.pe\n",
      "   5 rhost=fparas.securepathways.com\n",
      "   3 rhost=ftc.fullerproperties.com\n",
      "  13 rhost=h64-187-1-131.gtconnect.net\n",
      "   4 rhost=h8441253073.dsl.speedlinq.nl\n",
      "   4 rhost=h9-203-73-31.seed.net.tw\n",
      "  10 rhost=host-213.50.3.6.addr.tdcsong.se\n",
      "  10 rhost=host-xe04.kiosk.ws\n",
      "   3 rhost=host112118.metrored.net.mx\n",
      "  17 rhost=host123-105.pool8288.interbusiness.it\n",
      "   1 rhost=host227.infiniconsys.com\n",
      "   4 rhost=host81-137-10-194.in-addr.btopenworld.com\n",
      "   6 rhost=i222-150-132-171.s02.a012.ap.plala.or.jp\n",
      "   1 rhost=iorganet3.teleson.ro\n",
      "  10 rhost=ip-216-69-169-168.ip.secureserver.net\n",
      "  14 rhost=ip-68-178-149-108.ip.secureserver.net\n",
      "   2 rhost=ip64-178-48-29.z48-178-64.customer.algx.net\n",
      "  10 rhost=ip67-90-201-250.z201-90-67.customer.algx.net\n",
      "  10 rhost=ip67-94-174-130.z174-94-67.customer.algx.net\n",
      "   1 rhost=itsc.iasi.astral.ro\n",
      "  10 rhost=julia.arkos.de\n",
      "  21 rhost=jwhp5.chem.ncsu.edu\n",
      "  11 rhost=kulab-6-33.cpc.ku.ac.th\n",
      "  10 rhost=llekm-static-203.200.147.8.vsnl.net.in\n",
      "   1 rhost=lneuilly-152-22-93-12.w193-251.abo.wanadoo.fr\n",
      "   5 rhost=mail.23rhodes.net\n",
      "  10 rhost=mail.3-plan.ru\n",
      "   1 rhost=mail.apcosoft.net\n",
      "   7 rhost=mail.fullerproperties.com\n",
      "  10 rhost=mail.ntsec.gov.tw\n",
      "   3 rhost=mail.varpalota.hu\n",
      "  11 rhost=mail.xmjl.com\n",
      "   6 rhost=mailman.ywso.com\n",
      "   2 rhost=maior.teleson.ro\n",
      "  10 rhost=massive.merukuru.org\n",
      "  23 rhost=n219076184117.netvigator.com\n",
      "  22 rhost=ned.gcdtech.com\n",
      "   1 rhost=net2.program.com.tw\n",
      "   1 rhost=nous.soft.net\n",
      "  10 rhost=ns.cs-net.cz\n",
      "  10 rhost=p15105218.pureserver.info\n",
      "  67 rhost=pc180-233.nttu.edu.tw\n",
      "   3 rhost=pcp0012132427pcs.benslm01.pa.comcast.net\n",
      "  17 rhost=pokemon1.cs.bowiestate.edu\n",
      "  10 rhost=ponteix.ssd.sk.ca\n",
      "  10 rhost=port0034-abx-adsl.cwjamaica.com\n",
      "  10 rhost=pppzss.shenzhen.gd.cn\n",
      "  16 rhost=relic.centrodedatos.com\n",
      "  29 rhost=ridsdale.plus.com\n",
      "   1 rhost=rrcs-24-123-152-137.central.biz.rr.com\n",
      "  10 rhost=s010600112fb9bd72.vf.shawcable.net\n",
      "  39 rhost=secure.vision-xxl.com\n",
      "   3 rhost=server.novacero.com\n",
      "   7 rhost=server3.sugolan.hu\n",
      "  10 rhost=solutions93.cobalt.com\n",
      "   1 rhost=squid.netcomputers.ro\n",
      "  10 rhost=srv2.alfahost.nl\n",
      "   5 rhost=stat.62-123-40-155.atlanet.it\n",
      "  10 rhost=test.mtc.ntnu.edu.tw\n",
      "   5 rhost=troi.bluesky-technologies.com\n",
      "  20 rhost=under-eepc58.kaist.ac.kr\n",
      "  23 rhost=unknown.sagonet.net\n",
      "   5 rhost=user-12ldoks.cable.mindspring.com\n",
      "  16 rhost=vedgi-gw.rosprint.net\n",
      "  10 rhost=vit94-2-82-66-253-141.fbx.proxad.net\n",
      "  10 rhost=wcn3.tisnet.net.tw\n",
      "  17 rhost=web003.knoxville.xxpansion.net\n",
      "  10 rhost=wef.hebiace.edu.cn\n",
      "  11 rhost=wsip-24-120-168-221.lv.lv.cox.net\n",
      "  10 rhost=www.buller.hoover.fresno.k12.ca.us\n",
      "   1 rhost=www.etsin.upm.es\n",
      "  10 rhost=www.lssu.edu\n",
      "  10 rhost=www.njust.edu.cn\n",
      "   2 rhost=www.shatura.com\n",
      "  10 rhost=xdsl-5103.wroclaw.dialog.net.pl\n",
      "  15 rhost=xdsl-81-173-145-209.netcologne.de\n",
      "  23 rhost=yang.dorm13.nctu.edu.tw\n",
      "  45 rhost=ztc2-f.nas.tiscali.de\n",
      "  10 rhost=zummit.com\n"
     ]
    }
   ],
   "source": [
    "!grep \"authentication failure\" Linux.log | awk -F'user=' '{print $2}' | awk '{print $1}' | sort | uniq -c"
   ]
  },
  {
   "cell_type": "markdown",
   "id": "6da9dcd3-b663-4faf-b036-e3c1bf1ac413",
   "metadata": {},
   "source": [
    "### Lista de ips que establecieron conexion via FTP y cuantas conexiones realizaron"
   ]
  },
  {
   "cell_type": "code",
   "execution_count": 8,
   "id": "b494d9e8-a257-4452-ad3c-b15231f2f5f8",
   "metadata": {},
   "outputs": [
    {
     "name": "stdout",
     "output_type": "stream",
     "text": [
      "   8 81.240.142.171,\n",
      "   2 84.102.20.2,\n",
      "   1 84.102.20.91,\n"
     ]
    }
   ],
   "source": [
    "!grep \"FTP\" Linux.log | awk '{for(i=1;i<=NF;i++) if ($i ~ /[0-9]+\\.[0-9]+\\.[0-9]+\\.[0-9]+/) print $i}' | sort | uniq -c"
   ]
  },
  {
   "cell_type": "markdown",
   "id": "c392920d-479c-4644-b2c4-86a08f178ff3",
   "metadata": {},
   "source": [
    "# Apache.log\n",
    "### Número de líneas"
   ]
  },
  {
   "cell_type": "code",
   "execution_count": 9,
   "id": "0cb235f5-04ca-4d33-bbe8-6919743f81fd",
   "metadata": {},
   "outputs": [
    {
     "name": "stdout",
     "output_type": "stream",
     "text": [
      "   56481 Apache.log\n"
     ]
    }
   ],
   "source": [
    "!wc -l Apache.log"
   ]
  },
  {
   "cell_type": "markdown",
   "id": "bdb168bc-13b4-4487-8d17-290109713e4c",
   "metadata": {},
   "source": [
    "### Número de eventos por mes"
   ]
  },
  {
   "cell_type": "code",
   "execution_count": 10,
   "id": "2cdfe3c1-b98e-4bc9-8b7e-bc645d1c62d2",
   "metadata": {},
   "outputs": [
    {
     "name": "stdout",
     "output_type": "stream",
     "text": [
      "Aug : 1448\n",
      "Dec : 6086\n",
      "Feb : 8790\n",
      "Jan : 10905\n",
      "Jul : 3335\n",
      "Jun : 2580\n",
      "Nov : 15862\n",
      "Oct : 1159\n",
      "Sep : 1839\n"
     ]
    }
   ],
   "source": [
    "!grep -E '\\[[A-Z][a-z]{2} [A-Z][a-z]{2} [0-9]{2}' Apache.log | awk '{print $2}' | sort | uniq -c | awk '{print $2, $3 \": \" $1}'\n"
   ]
  },
  {
   "cell_type": "markdown",
   "id": "5571e4bc-c019-464c-9235-6662a34e353c",
   "metadata": {},
   "source": [
    "### Número de eventos por categoria: notice, error, warn"
   ]
  },
  {
   "cell_type": "code",
   "execution_count": 13,
   "id": "1e4c7ece-ddc6-43ee-ad6b-e4b2840beea7",
   "metadata": {},
   "outputs": [
    {
     "name": "stdout",
     "output_type": "stream",
     "text": [
      "Notice: 13755\n",
      "Error: 38081\n",
      "Warn: 168\n"
     ]
    }
   ],
   "source": [
    "!echo \"Notice: $(grep -c \"\\[notice\\]\" Apache.log)\"\n",
    "!echo \"Error: $(grep -c \"\\[error\\]\" Apache.log)\"\n",
    "!echo \"Warn: $(grep -c \"\\[warn\\]\" Apache.log)\""
   ]
  },
  {
   "cell_type": "markdown",
   "id": "cc83fe41-9fe3-4884-a5bc-6017fccb5bc2",
   "metadata": {},
   "source": [
    "### De los eventos tipo error, obtener el listado de clients"
   ]
  },
  {
   "cell_type": "code",
   "execution_count": null,
   "id": "9dec77ae-2450-4401-bb2d-9df258fe722e",
   "metadata": {},
   "outputs": [],
   "source": [
    "!grep '\\[error\\]' datasets/Apache.log | grep '\\[client' | awk -F'[][]' '{print $6}'"
   ]
  },
  {
   "cell_type": "markdown",
   "id": "4f3842c1-b037-4c4b-8d37-15bb4cdbd9f4",
   "metadata": {},
   "source": [
    "### De los eventos tipo error, obtener el listado de archivos que no existen"
   ]
  },
  {
   "cell_type": "code",
   "execution_count": 15,
   "id": "4e2057ac-4aa4-457b-8c05-b160e665c277",
   "metadata": {},
   "outputs": [
    {
     "name": "stdout",
     "output_type": "stream",
     "text": [
      "/var/www/html/...\n",
      "/var/www/html/Calendar\n",
      "/var/www/html/Forums\n",
      "/var/www/html/MSADC\n",
      "/var/www/html/Mambo\n",
      "/var/www/html/NULL.printer\n",
      "/var/www/html/WebCalendar\n",
      "/var/www/html/_mem_bin\n",
      "/var/www/html/_vti_bin\n",
      "/var/www/html/adm\n",
      "/var/www/html/admin\n",
      "/var/www/html/articles\n",
      "/var/www/html/aws\n",
      "/var/www/html/awstats-cgibin\n",
      "/var/www/html/awstats.pl\n",
      "/var/www/html/awstats/awstats.\n",
      "/var/www/html/awstats/awstats.pl\n",
      "/var/www/html/awstats/cgi-bin\n",
      "/var/www/html/awstats/perl\n",
      "/var/www/html/b2\n",
      "/var/www/html/b2evo\n",
      "/var/www/html/b2exo\n",
      "/var/www/html/bbs\n",
      "/var/www/html/bin\n",
      "/var/www/html/blog\n",
      "/var/www/html/blogs\n",
      "/var/www/html/blogtest\n",
      "/var/www/html/c\n",
      "/var/www/html/cache\n",
      "/var/www/html/cacti\n",
      "/var/www/html/cal\n",
      "/var/www/html/calendar\n",
      "/var/www/html/catalog\n",
      "/var/www/html/cgi\n",
      "/var/www/html/cgi-bin2\n",
      "/var/www/html/cgi-local\n",
      "/var/www/html/chat\n",
      "/var/www/html/community\n",
      "/var/www/html/cp\n",
      "/var/www/html/cvs\n",
      "/var/www/html/d\n",
      "/var/www/html/default.shtml\n",
      "/var/www/html/drupal\n",
      "/var/www/html/favicon.ico\n",
      "/var/www/html/file\n",
      "/var/www/html/forms\n",
      "/var/www/html/forum/include\n",
      "/var/www/html/html\n",
      "/var/www/html/include\n",
      "/var/www/html/install\n",
      "/var/www/html/ip1.cgi\n",
      "/var/www/html/level\n",
      "/var/www/html/local_graph_id\n",
      "/var/www/html/log\n",
      "/var/www/html/mambo\n",
      "/var/www/html/modules\n",
      "/var/www/html/msadc\n",
      "/var/www/html/msgboard\n",
      "/var/www/html/mute\n",
      "/var/www/html/onlineshop\n",
      "/var/www/html/osCommerce\n",
      "/var/www/html/osc\n",
      "/var/www/html/oscommerce\n",
      "/var/www/html/pavon\n",
      "/var/www/html/phpbb\n",
      "/var/www/html/phpgroupware\n",
      "/var/www/html/phpmyadmin\n",
      "/var/www/html/qnews\n",
      "/var/www/html/scripts/..%2f..\n",
      "/var/www/html/scripts/..%5c%5c..\n",
      "/var/www/html/scripts/..%5c..\n",
      "/var/www/html/scripts/..\\xc0\\xaf..\n",
      "/var/www/html/scripts/..\\xc1\\x1c..\n",
      "/var/www/html/scripts/..\\xc1\\x9c..\n",
      "/var/www/html/scripts/nsiislog.dll\n",
      "/var/www/html/scripts/root.exe\n",
      "/var/www/html/services\n",
      "/var/www/html/shop\n",
      "/var/www/html/star\n",
      "/var/www/html/stat-cgi\n",
      "/var/www/html/stats/awstats.pl\n",
      "/var/www/html/store\n",
      "/var/www/html/sumthin\n",
      "/var/www/html/talk\n",
      "/var/www/html/trunk\n",
      "/var/www/html/twiki\n",
      "/var/www/html/webcalendar\n",
      "/var/www/html/wing-calendar\n",
      "/var/www/html/wordpress\n",
      "/var/www/html/xmlrpc\n",
      "/var/www/html/xmlsrv\n",
      "/var/www/html/zboard\n",
      "/var/www/html/~ipcom\n",
      "/var/www/html/~mana_\n"
     ]
    }
   ],
   "source": [
    "!grep '[error]' Apache.log | grep 'File does not exist:' | awk -F': ' '{print $2}' | sort | uniq\n"
   ]
  }
 ],
 "metadata": {
  "kernelspec": {
   "display_name": "Python 3 (ipykernel)",
   "language": "python",
   "name": "python3"
  },
  "language_info": {
   "codemirror_mode": {
    "name": "ipython",
    "version": 3
   },
   "file_extension": ".py",
   "mimetype": "text/x-python",
   "name": "python",
   "nbconvert_exporter": "python",
   "pygments_lexer": "ipython3",
   "version": "3.12.1"
  }
 },
 "nbformat": 4,
 "nbformat_minor": 5
}
